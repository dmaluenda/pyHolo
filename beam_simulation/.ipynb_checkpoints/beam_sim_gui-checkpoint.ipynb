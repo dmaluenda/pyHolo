{
 "cells": [
  {
   "cell_type": "code",
   "execution_count": 1,
   "id": "76ebdc309ce2da52",
   "metadata": {},
   "outputs": [],
   "source": [
    "import numpy as np\n"
   ]
  },
  {
   "cell_type": "code",
   "execution_count": 2,
   "id": "b22471f0adbe114c",
   "metadata": {
    "ExecuteTime": {
     "start_time": "2023-10-23T15:42:39.618838700Z"
    }
   },
   "outputs": [],
   "source": [
    "a = np.random.rand(3,3)\n",
    "b = np.random.rand(3,3) \n",
    "\n",
    "    "
   ]
  },
  {
   "cell_type": "code",
   "execution_count": 3,
   "id": "e742df15852502b9",
   "metadata": {},
   "outputs": [
    {
     "data": {
      "text/plain": [
       "array([[0.79860464, 0.22235592, 0.71239503],\n",
       "       [0.69802573, 0.58769167, 0.99755158],\n",
       "       [0.70191596, 0.40471481, 0.98969811]])"
      ]
     },
     "execution_count": 3,
     "metadata": {},
     "output_type": "execute_result"
    }
   ],
   "source": [
    "a"
   ]
  },
  {
   "cell_type": "code",
   "execution_count": null,
   "id": "59c632f8",
   "metadata": {},
   "outputs": [],
   "source": []
  }
 ],
 "metadata": {
  "kernelspec": {
   "display_name": "Python 3 (ipykernel)",
   "language": "python",
   "name": "python3"
  },
  "language_info": {
   "codemirror_mode": {
    "name": "ipython",
    "version": 3
   },
   "file_extension": ".py",
   "mimetype": "text/x-python",
   "name": "python",
   "nbconvert_exporter": "python",
   "pygments_lexer": "ipython3",
   "version": "3.8.8"
  }
 },
 "nbformat": 4,
 "nbformat_minor": 5
}
